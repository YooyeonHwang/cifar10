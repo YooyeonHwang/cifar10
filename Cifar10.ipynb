{
  "nbformat": 4,
  "nbformat_minor": 0,
  "metadata": {
    "colab": {
      "name": "Cifar10.ipynb",
      "provenance": [],
      "collapsed_sections": [],
      "include_colab_link": true
    },
    "kernelspec": {
      "name": "python3",
      "display_name": "Python 3"
    },
    "accelerator": "GPU"
  },
  "cells": [
    {
      "cell_type": "markdown",
      "metadata": {
        "id": "view-in-github",
        "colab_type": "text"
      },
      "source": [
        "<a href=\"https://colab.research.google.com/github/hyy-cv/start/blob/master/Cifar10.ipynb\" target=\"_parent\"><img src=\"https://colab.research.google.com/assets/colab-badge.svg\" alt=\"Open In Colab\"/></a>"
      ]
    },
    {
      "cell_type": "code",
      "metadata": {
        "id": "QHMtnYN4JbzR",
        "colab_type": "code",
        "colab": {}
      },
      "source": [
        "from __future__ import print_function\n",
        "import keras\n",
        "from keras.datasets import cifar10\n",
        "from keras.preprocessing.image import ImageDataGenerator\n",
        "from keras.models import Sequential\n",
        "from keras.layers import Dense, Dropout, Activation, Flatten\n",
        "from keras.layers import Conv2D, MaxPooling2D\n",
        "from keras.layers import BatchNormalization\n",
        "\n",
        "#warning 무시\n",
        "import warnings\n",
        "warnings.filterwarnings('ignore')\n",
        "\n",
        "import os"
      ],
      "execution_count": 0,
      "outputs": []
    },
    {
      "cell_type": "code",
      "metadata": {
        "id": "xN76jTnaJku7",
        "colab_type": "code",
        "colab": {}
      },
      "source": [
        "batch_size = 32\n",
        "num_classes = 10\n",
        "epochs = 20\n",
        "data_augmentation = False\n",
        "num_predictions = 20"
      ],
      "execution_count": 0,
      "outputs": []
    },
    {
      "cell_type": "code",
      "metadata": {
        "id": "BuwjP0yeJlyu",
        "colab_type": "code",
        "outputId": "82d7e5ba-1770-40f2-99fb-aab3e4f6aae5",
        "colab": {
          "base_uri": "https://localhost:8080/",
          "height": 69
        }
      },
      "source": [
        "#cifar10 데이터를 로드하고 트레인, 테스트 데이터로 나누기\n",
        "(x_train, y_train), (x_test, y_test) = cifar10.load_data()\n",
        "print('x_train shape:', x_train.shape)\n",
        "print(x_train.shape[0], 'train samples')\n",
        "print(x_test.shape[0], 'test samples')"
      ],
      "execution_count": 31,
      "outputs": [
        {
          "output_type": "stream",
          "text": [
            "x_train shape: (50000, 32, 32, 3)\n",
            "50000 train samples\n",
            "10000 test samples\n"
          ],
          "name": "stdout"
        }
      ]
    },
    {
      "cell_type": "code",
      "metadata": {
        "id": "ICtLv_uZJoXe",
        "colab_type": "code",
        "colab": {
          "base_uri": "https://localhost:8080/",
          "height": 259
        },
        "outputId": "72301bcd-594f-43f6-dfe0-c601f3aa59d1"
      },
      "source": [
        "#binary class metrics로 변환\n",
        "y_train = keras.utils.to_categorical(y_train, num_classes)\n",
        "y_test = keras.utils.to_categorical(y_test, num_classes)"
      ],
      "execution_count": 32,
      "outputs": [
        {
          "output_type": "stream",
          "text": [
            "[[6]\n",
            " [9]\n",
            " [9]\n",
            " ...\n",
            " [9]\n",
            " [1]\n",
            " [1]]\n",
            "[[0. 0. 0. ... 0. 0. 0.]\n",
            " [0. 0. 0. ... 0. 0. 1.]\n",
            " [0. 0. 0. ... 0. 0. 1.]\n",
            " ...\n",
            " [0. 0. 0. ... 0. 0. 1.]\n",
            " [0. 1. 0. ... 0. 0. 0.]\n",
            " [0. 1. 0. ... 0. 0. 0.]]\n"
          ],
          "name": "stdout"
        }
      ]
    },
    {
      "cell_type": "code",
      "metadata": {
        "id": "-rfn1qzqJ5dW",
        "colab_type": "code",
        "colab": {}
      },
      "source": [
        "#train 데이터들의 자료형을 float 32비트로 바꾸기\n",
        "x_train = x_train.astype('float32')\n",
        "x_test = x_test.astype('float32')\n",
        "\n",
        "x_train /= 255\n",
        "x_test /= 255"
      ],
      "execution_count": 0,
      "outputs": []
    },
    {
      "cell_type": "markdown",
      "metadata": {
        "id": "iDFttU7cJvdh",
        "colab_type": "text"
      },
      "source": [
        "**네트워크 설계하기**\n",
        "\n",
        "\n"
      ]
    },
    {
      "cell_type": "code",
      "metadata": {
        "id": "qMF9TgYlJvFq",
        "colab_type": "code",
        "colab": {}
      },
      "source": [
        "\n",
        "model = Sequential()\n",
        "\n",
        "model.add(Conv2D(32, (3,3)))\n",
        "model.add(BatchNormalization())\n",
        "model.add(Activation('relu'))\n",
        "model.add(Conv2D(32, (3,3),padding='same'))\n",
        "model.add(Activation('relu'))\n",
        "model.add(MaxPooling2D(pool_size=(2,2)))\n",
        "model.add(Dropout(0.25))\n",
        "\n",
        "model.add(Conv2D(64, (3,3),padding='same'))\n",
        "model.add(BatchNormalization())\n",
        "model.add(Activation('relu'))\n",
        "model.add(Conv2D(64, (3,3),padding='same'))\n",
        "model.add(Activation('relu'))\n",
        "model.add(MaxPooling2D(pool_size=(2,2)))\n",
        "model.add(Dropout(0.25))\n",
        "\n",
        "model.add(Conv2D(128, (3,3),padding='same'))\n",
        "model.add(BatchNormalization())\n",
        "model.add(Activation('relu'))\n",
        "model.add(Conv2D(128, (3,3),padding='same'))\n",
        "model.add(Activation('relu'))\n",
        "model.add(MaxPooling2D(pool_size=(2,2)))\n",
        "model.add(Dropout(0.25))\n",
        "\n",
        "model.add(Flatten())\n",
        "model.add(Dense(512))\n",
        "model.add(Dropout(0.5))\n",
        "model.add(Dense(10))\n",
        "\n",
        "model.add(Activation('softmax'))\n",
        "         "
      ],
      "execution_count": 0,
      "outputs": []
    },
    {
      "cell_type": "code",
      "metadata": {
        "id": "NT5sENY6KNrG",
        "colab_type": "code",
        "colab": {}
      },
      "source": [
        "opt = keras.optimizers.rmsprop(lr=0.0001, decay=1e-6)"
      ],
      "execution_count": 0,
      "outputs": []
    },
    {
      "cell_type": "code",
      "metadata": {
        "id": "Zd1E5FY4JqQG",
        "colab_type": "code",
        "colab": {}
      },
      "source": [
        "# optimizer는 RMSprop으로 설정\n",
        "model.compile(loss='categorical_crossentropy',\n",
        "              optimizer=opt,\n",
        "              metrics=['accuracy'])"
      ],
      "execution_count": 0,
      "outputs": []
    },
    {
      "cell_type": "code",
      "metadata": {
        "id": "lkA0Pd6vJ_IO",
        "colab_type": "code",
        "colab": {
          "base_uri": "https://localhost:8080/",
          "height": 726
        },
        "outputId": "91723ca9-99e1-445c-f69b-1529e311f100"
      },
      "source": [
        "trained_model = model.fit(x_train, y_train,\n",
        "          batch_size=batch_size,\n",
        "          epochs=epochs,\n",
        "          verbose=1,                \n",
        "          validation_data=(x_test, y_test),\n",
        "          shuffle=True)"
      ],
      "execution_count": 26,
      "outputs": [
        {
          "output_type": "stream",
          "text": [
            "Train on 50000 samples, validate on 10000 samples\n",
            "Epoch 1/20\n",
            "50000/50000 [==============================] - 43s 864us/step - loss: 1.7529 - acc: 0.3648 - val_loss: 1.4269 - val_acc: 0.4795\n",
            "Epoch 2/20\n",
            "50000/50000 [==============================] - 44s 879us/step - loss: 1.3686 - acc: 0.5029 - val_loss: 1.1820 - val_acc: 0.5845\n",
            "Epoch 3/20\n",
            "50000/50000 [==============================] - 45s 906us/step - loss: 1.2039 - acc: 0.5711 - val_loss: 1.0911 - val_acc: 0.6190\n",
            "Epoch 4/20\n",
            "50000/50000 [==============================] - 45s 908us/step - loss: 1.0890 - acc: 0.6154 - val_loss: 0.9899 - val_acc: 0.6489\n",
            "Epoch 5/20\n",
            "50000/50000 [==============================] - 45s 908us/step - loss: 1.0016 - acc: 0.6466 - val_loss: 0.8711 - val_acc: 0.6945\n",
            "Epoch 6/20\n",
            "50000/50000 [==============================] - 45s 904us/step - loss: 0.9322 - acc: 0.6703 - val_loss: 0.7976 - val_acc: 0.7190\n",
            "Epoch 7/20\n",
            "50000/50000 [==============================] - 45s 906us/step - loss: 0.8827 - acc: 0.6889 - val_loss: 0.9471 - val_acc: 0.6813\n",
            "Epoch 8/20\n",
            "50000/50000 [==============================] - 46s 911us/step - loss: 0.8341 - acc: 0.7073 - val_loss: 0.8377 - val_acc: 0.7150\n",
            "Epoch 9/20\n",
            "50000/50000 [==============================] - 45s 906us/step - loss: 0.7946 - acc: 0.7222 - val_loss: 0.7641 - val_acc: 0.7377\n",
            "Epoch 10/20\n",
            "50000/50000 [==============================] - 45s 905us/step - loss: 0.7586 - acc: 0.7374 - val_loss: 0.7557 - val_acc: 0.7430\n",
            "Epoch 11/20\n",
            "50000/50000 [==============================] - 45s 906us/step - loss: 0.7263 - acc: 0.7476 - val_loss: 0.6817 - val_acc: 0.7697\n",
            "Epoch 12/20\n",
            "50000/50000 [==============================] - 45s 906us/step - loss: 0.7051 - acc: 0.7576 - val_loss: 0.6870 - val_acc: 0.7675\n",
            "Epoch 13/20\n",
            "50000/50000 [==============================] - 45s 907us/step - loss: 0.6856 - acc: 0.7617 - val_loss: 0.6714 - val_acc: 0.7730\n",
            "Epoch 14/20\n",
            "50000/50000 [==============================] - 45s 903us/step - loss: 0.6647 - acc: 0.7700 - val_loss: 0.7586 - val_acc: 0.7510\n",
            "Epoch 15/20\n",
            "50000/50000 [==============================] - 45s 907us/step - loss: 0.6442 - acc: 0.7742 - val_loss: 0.6376 - val_acc: 0.7868\n",
            "Epoch 16/20\n",
            "50000/50000 [==============================] - 45s 902us/step - loss: 0.6245 - acc: 0.7829 - val_loss: 0.6683 - val_acc: 0.7843\n",
            "Epoch 17/20\n",
            "50000/50000 [==============================] - 45s 902us/step - loss: 0.6101 - acc: 0.7896 - val_loss: 0.6446 - val_acc: 0.7920\n",
            "Epoch 18/20\n",
            "50000/50000 [==============================] - 45s 903us/step - loss: 0.5959 - acc: 0.7952 - val_loss: 0.6534 - val_acc: 0.7843\n",
            "Epoch 19/20\n",
            "50000/50000 [==============================] - 45s 902us/step - loss: 0.5812 - acc: 0.7990 - val_loss: 0.6320 - val_acc: 0.7889\n",
            "Epoch 20/20\n",
            "50000/50000 [==============================] - 45s 901us/step - loss: 0.5684 - acc: 0.8045 - val_loss: 0.6317 - val_acc: 0.7950\n"
          ],
          "name": "stdout"
        }
      ]
    },
    {
      "cell_type": "code",
      "metadata": {
        "id": "KAnM6dDEKPMu",
        "colab_type": "code",
        "colab": {}
      },
      "source": [
        "epochs_range = range(20)\n",
        "validation_accuracy = trained_model.history['val_acc']\n",
        "training_accuracy = trained_model.history['acc']"
      ],
      "execution_count": 0,
      "outputs": []
    },
    {
      "cell_type": "code",
      "metadata": {
        "id": "AUEiUJm3KUbR",
        "colab_type": "code",
        "colab": {
          "base_uri": "https://localhost:8080/",
          "height": 283
        },
        "outputId": "f3c60493-7b63-4a68-ead0-89daebd9c7d0"
      },
      "source": [
        "import matplotlib.pyplot as plt\n",
        "\n",
        "#정확도 그래프에 그리기\n",
        "\n",
        "plt.plot(epochs_range, training_accuracy, 'b+', label='training accuracy')\n",
        "plt.plot(epochs_range, validation_accuracy, 'bo', label='validation accuracy')\n",
        "plt.xlabel('Epochs')\n",
        "plt.ylabel('Validation accuracy')\n",
        "plt.legend()\n",
        "\n",
        "plt.show()"
      ],
      "execution_count": 28,
      "outputs": [
        {
          "output_type": "display_data",
          "data": {
            "image/png": "[encoded data removed]",
            "text/plain": [
              "<Figure size 432x288 with 1 Axes>"
            ]
          },
          "metadata": {
            "tags": []
          }
        }
      ]
    },
    {
      "cell_type": "code",
      "metadata": {
        "id": "aU9keG2bKY9j",
        "colab_type": "code",
        "colab": {
          "base_uri": "https://localhost:8080/",
          "height": 69
        },
        "outputId": "7590f6fb-3f1b-4d8f-e961-d46f32373242"
      },
      "source": [
        "#모델 평가하기\n",
        "scores = model.evaluate(x_test, y_test, verbose=1)\n",
        "print('Test loss:', scores[0])\n",
        "print('Test accuracy:', scores[1])"
      ],
      "execution_count": 29,
      "outputs": [
        {
          "output_type": "stream",
          "text": [
            "10000/10000 [==============================] - 2s 231us/step\n",
            "Test loss: 0.6316912795543671\n",
            "Test accuracy: 0.795\n"
          ],
          "name": "stdout"
        }
      ]
    },
    {
      "cell_type": "code",
      "metadata": {
        "id": "SnnDYUWXNLgh",
        "colab_type": "code",
        "colab": {}
      },
      "source": [
        ""
      ],
      "execution_count": 0,
      "outputs": []
    }
  ]
}